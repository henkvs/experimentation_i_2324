{
 "cells": [
  {
   "cell_type": "markdown",
   "metadata": {},
   "source": [
    "# The Wisconsin Card Sorting Task in OpenSesame"
   ]
  },
  {
   "cell_type": "code",
   "execution_count": 3,
   "metadata": {},
   "outputs": [],
   "source": [
    "from IPython.display import IFrame"
   ]
  },
  {
   "cell_type": "markdown",
   "metadata": {},
   "source": [
    "The tutorial can be found [here](https://osdoc.cogsci.nl/3.3/tutorials/wcst-python/). You can skip Extra assignments 5 and 6."
   ]
  },
  {
   "cell_type": "code",
   "execution_count": 4,
   "metadata": {},
   "outputs": [
    {
     "data": {
      "text/html": [
       "\n",
       "        <iframe\n",
       "            width=\"800\"\n",
       "            height=\"600\"\n",
       "            src=\"https://osdoc.cogsci.nl/3.3/tutorials/wcst-python/\"\n",
       "            frameborder=\"0\"\n",
       "            allowfullscreen\n",
       "            \n",
       "        ></iframe>\n",
       "        "
      ],
      "text/plain": [
       "<IPython.lib.display.IFrame at 0x20897e23640>"
      ]
     },
     "execution_count": 4,
     "metadata": {},
     "output_type": "execute_result"
    }
   ],
   "source": [
    "IFrame(src=\"https://osdoc.cogsci.nl/3.3/tutorials/wcst-python/\", width=\"800\", height=\"600\")"
   ]
  },
  {
   "cell_type": "markdown",
   "metadata": {
    "collapsed": false
   },
   "source": [
    "### Exercise 1. Calculate average performance\n",
    "\n",
    "Open the gaze cueing task you created in Chapter 4. Change the TimeOut value of the Keyboard_response object to 500 (ms) so that missing values are recorded. How does OpenSesame store missing responses? Check this in the log file.\n",
    "\n",
    "Now count the number of times the response was correct, incorrect and missing. Also, count the total number of trials presented in the block. Present the percentage of correct, incorrect, and missing responses in the feedback item. Compare whether the values you calculated correspond with the values automatically created by OpenSesame.\n",
    "\n",
    "### Exercise 2. Create flanker arrows using Canvas commands (advanced)\n",
    "\n",
    "Open the flanker task that you previously created in Chapter 2. Modify it by replacing the stimuli consisting of Ss and Hs with left- and right-pointing arrows. Use python code to draw these arrows using a series of Canvas commands that draw lines. To generate a display of five arrows, you will probably need a minimum of ten Canvas commands. Use conditionals to make sure the target and distractor arrows point to the right direction.\n",
    "\n",
    "Hint: Start simple and work step-by-step. First, draw the target arrow in one direction and test if it works (e.g. draw a line between coordinates -10, -10, 10, 0 and a line between coordinates +10, -10, 10, 0). Then, use a conditional statement to ensure the target arrow points in the correct direction. If this works, add flanker arrows. Next, include a conditional statement to make the flanker arrows point in the right direction.\n",
    "\n"
   ]
  },
  {
   "cell_type": "code",
   "metadata": {
    "collapsed": false
   },
   "outputs": [],
   "source": []
  }
 ],
 "metadata": {
  "kernelspec": {
   "display_name": "Python 3 (ipykernel)",
   "language": "python",
   "name": "python3"
  },
  "language_info": {
   "codemirror_mode": {
    "name": "ipython",
    "version": 3
   },
   "file_extension": ".py",
   "mimetype": "text/x-python",
   "name": "python",
   "nbconvert_exporter": "python",
   "pygments_lexer": "ipython3",
   "version": "3.9.12"
  }
 },
 "nbformat": 4,
 "nbformat_minor": 1
}