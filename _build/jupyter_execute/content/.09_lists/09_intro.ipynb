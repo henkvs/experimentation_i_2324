{
 "cells": [
  {
   "cell_type": "markdown",
   "metadata": {
    "collapsed": false
   },
   "source": [
    "# Chapter 9 - Lists and strings"
   ]
  },
  {
   "cell_type": "markdown",
   "metadata": {
    "collapsed": false
   },
   "source": [
    "### Preparation work \n",
    "\n",
    "Recommended reading: \n",
    "\n",
    "Chapter 6 and 8 of \n",
    "\n",
    "Severance, C. (2016). [\"Python for Everybody: Exploring Data Using Python 3.\"](https://do1.dr-chuck.com/pythonlearn/EN_us/pythonlearn.pdf)\n"
   ]
  }
 ],
 "metadata": {
  "kernelspec": {
   "display_name": "Python 3",
   "language": "python",
   "name": "python3"
  },
  "language_info": {
   "codemirror_mode": {
    "name": "ipython",
    "version": 2
   },
   "file_extension": ".py",
   "mimetype": "text/x-python",
   "name": "python",
   "nbconvert_exporter": "python",
   "pygments_lexer": "ipython2",
   "version": "2.7.6"
  }
 },
 "nbformat": 4,
 "nbformat_minor": 0
}