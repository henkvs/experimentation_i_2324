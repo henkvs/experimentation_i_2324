{
 "cells": [
  {
   "cell_type": "markdown",
   "metadata": {},
   "source": [
    "# Gaze cuing task in OpenSesame"
   ]
  },
  {
   "cell_type": "code",
   "execution_count": 10,
   "metadata": {},
   "outputs": [],
   "source": [
    "from IPython.display import IFrame\n"
   ]
  },
  {
   "cell_type": "markdown",
   "metadata": {},
   "source": [
    "The tutorial can be found [here](https://osdoc.cogsci.nl/3.3/tutorials/beginner/)"
   ]
  },
  {
   "cell_type": "code",
   "execution_count": 11,
   "metadata": {},
   "outputs": [
    {
     "data": {
      "text/html": [
       "\n",
       "        <iframe\n",
       "            width=\"800\"\n",
       "            height=\"600\"\n",
       "            src=\"https://osdoc.cogsci.nl/3.3/tutorials/beginner/\"\n",
       "            frameborder=\"0\"\n",
       "            allowfullscreen\n",
       "            \n",
       "        ></iframe>\n",
       "        "
      ],
      "text/plain": [
       "<IPython.lib.display.IFrame at 0x11876fc1cd0>"
      ]
     },
     "execution_count": 11,
     "metadata": {},
     "output_type": "execute_result"
    }
   ],
   "source": [
    "\n",
    "\n",
    "IFrame(src=\"https://osdoc.cogsci.nl/3.3/tutorials/beginner/\", width=\"800\", height=\"600\")"
   ]
  },
  {
   "cell_type": "markdown",
   "metadata": {},
   "source": [
    "\n",
    "## Exercises\n",
    "\n",
    "### Exercise 1. Express the location of the cues in relative terms\n",
    "Let's now adapt the gaze cuing experiment you created in the tutorial. Change the 300 and -300 values into percentages (e.g. 10% and -10%) and calculate the x-coordinates of both the target and the distractor based on the resolution (width) of the screen.\n",
    "\n",
    "Test whether the location is updated when you change the resolution of the screen.\n",
    "\n",
    "### Exercise 2. Track the number of trials per block \n",
    "\n",
    "Count the total number of trials presented in each block by adding an inline script that increments itself with 1 at the end of each trial (i.e. var.TrialCounter = var.TrialCounter + 1). The first trial should get value 1. Make sure the counter resets for each block separately. Check using the variable inspect (while running OpenSesame in windowed mode) and in the log file whether the stored trial number is correct.\n",
    "\n",
    "### Exercise 3. Calculate a running average of the accuracy\n",
    "\n",
    "Now, add another counter that calculates the total number of correct trials using var.CorrectCounter = var.CorrectCounter + var.correct. Make sure this code is run AFTER the `experimental variable` var.correct has the correct value (i.e., you should add this inline after the response collection object). Calculate the running average by dividing the value of CorrectCounter by TrialCounter. Show this running average value on the screen by inserting a feedback object in the trial sequence.  \n",
    "\n",
    "### Exercise 4. Add a progressbar (advanced)\n",
    "\n",
    "Now, let's utilize the trial counter you created in Exercise 2 to incorporate a progress bar into the trials. The progress bar should consist of a horizontal white rectangle that gradually fills up from left to right using a red filled rectangle displayed on top of it. Additionally, include a column at the block level that indicates the total number of trials per block. To calculate the width of the red bar, divide the trial number by this total and multiply it by a constant. Make sure to reference this variable to adjust the width of the red bar (refer to the 'w' parameter of the red rectangle in the script view).\n",
    "\n",
    "\n",
    "\n",
    "\n"
   ]
  },
  {
   "cell_type": "code",
   "execution_count": 9,
   "metadata": {},
   "outputs": [],
   "source": []
  }
 ],
 "metadata": {
  "celltoolbar": "Tags",
  "kernelspec": {
   "display_name": "Python 3 (ipykernel)",
   "language": "python",
   "name": "python3"
  },
  "language_info": {
   "codemirror_mode": {
    "name": "ipython",
    "version": 3
   },
   "file_extension": ".py",
   "mimetype": "text/x-python",
   "name": "python",
   "nbconvert_exporter": "python",
   "pygments_lexer": "ipython3",
   "version": "3.9.12"
  }
 },
 "nbformat": 4,
 "nbformat_minor": 1
}
